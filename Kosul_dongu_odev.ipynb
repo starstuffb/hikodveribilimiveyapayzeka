{
  "cells": [
    {
      "cell_type": "markdown",
      "id": "409f0f4a",
      "metadata": {
        "id": "409f0f4a"
      },
      "source": [
        "**Ödev-1:** Kullanıcıdan maaş bilgisini istenir ve bu bilgiye göre maaşından ne kadar vergi kesileceğini hesaplanır. Kullanıcının geliri;\n",
        "\n",
        "1. 10000 ve altındaysa maaşından %5 kesinti olur.\n",
        "2. 25000 ve altındaysa maaşından %10 kesinti olur.\n",
        "3. 45000 ve altındaysa maaşından %25 kesinti olur.\n",
        "4. Diğer koşullarda %30 kesinti olur.\n",
        "\n",
        "Bu durumlara göre kullanıcının yeni maaşı yazdırılır."
      ]
    },
    {
      "cell_type": "code",
      "source": [
        "salary = float(input(\"Maaşınızı giriniz: \"))\n",
        "\n",
        "if salary <= 10000:\n",
        "  tax_rate = 0.05\n",
        "elif salary <= 25000:\n",
        "  tax_rate = 0.10\n",
        "elif salary <= 45000:\n",
        "  tax_rate = 0.25\n",
        "else:\n",
        "  tax_rate = 0.30\n",
        "\n",
        "tax_amount = salary * tax_rate\n",
        "new_salary = salary - tax_amount\n",
        "\n",
        "print(f\"Vergi kesintisi: %{tax_rate*100}\")\n",
        "print(f\"Kesilen vergi miktarı: {tax_amount}\")\n",
        "print(f\"Yeni maaşınız: {new_salary}\")"
      ],
      "metadata": {
        "colab": {
          "base_uri": "https://localhost:8080/"
        },
        "id": "bqHRlWJZIXGR",
        "outputId": "9c2f8a68-2d00-461e-f5d8-3a1361425f0d"
      },
      "id": "bqHRlWJZIXGR",
      "execution_count": 6,
      "outputs": [
        {
          "output_type": "stream",
          "name": "stdout",
          "text": [
            "Maaşınızı giriniz: 20000\n",
            "Vergi kesintisi: %10.0\n",
            "Kesilen vergi miktarı: 2000.0\n",
            "Yeni maaşınız: 18000.0\n"
          ]
        }
      ]
    },
    {
      "cell_type": "markdown",
      "id": "f5fe8798",
      "metadata": {
        "id": "f5fe8798"
      },
      "source": [
        "**Ödev-2:** Kullanıcıdan kullanıcı adı ve şifre oluşturmasını istenir. Şifrenin uzunluğu altı haneye ulaşmışsa hesabınız oluşturuldu mesajı alınır, altı haneden azsa altı haneli şifre oluşturması gerektiğinin mesajı alınır. *(Sadece koşul kullanılması yeterli.)*"
      ]
    },
    {
      "source": [
        "username = input(\"Kullanıcı adı girin\")\n",
        "password = input(\"Şifre girin\")\n",
        "\n",
        "if len(password) >= 6:\n",
        "  print(\"Hesabınız oluşturuldu\")\n",
        "else:\n",
        "  print(\"Lütfen 6 haneli bir şifre oluşturun\")"
      ],
      "cell_type": "code",
      "metadata": {
        "colab": {
          "base_uri": "https://localhost:8080/"
        },
        "id": "e05HJ0_aJ09D",
        "outputId": "72544218-8043-4429-ef9d-35c433ebe167"
      },
      "id": "e05HJ0_aJ09D",
      "execution_count": 7,
      "outputs": [
        {
          "output_type": "stream",
          "name": "stdout",
          "text": [
            "Kullanıcı adı girinstarstuff\n",
            "Şifre girin54325\n",
            "Lütfen 6 haneli bir şifre oluşturun\n"
          ]
        }
      ]
    },
    {
      "cell_type": "markdown",
      "id": "aaccf11a",
      "metadata": {
        "id": "aaccf11a"
      },
      "source": [
        "**Ödev-3:** Bir önceki örnek geliştirilir.\n",
        "\n",
        "1. Kullanıcı girdiği şifre 5 ve 10 hane arasında olmak zorunda.\n",
        "2. Eğer bu koşula uyuyorsa \"Hesabınız oluşturuldu.\" mesajı alır.\n",
        "3. Koşulu sağlamıyorsa \"Lütfen girdiniz şifre 5 haneden az 10 haneden fazla olmasın!\" uyarısı alır.\n",
        "4. Bunu oluştururken kullanıcı istediğimiz şartlarda şifre oluşturana kadar sormaya devam eder"
      ]
    },
    {
      "source": [
        "while True:\n",
        "  password = input(\"Şifre girin: \")\n",
        "  if len(password) >= 5 and len(password) <= 10:\n",
        "    print(\"Hesabınız oluşturuldu.\")\n",
        "    break\n",
        "  else:\n",
        "    print(\"Lütfen girdiğiniz şifre 5 haneden az 10 haneden fazla olmasın!\")"
      ],
      "cell_type": "code",
      "metadata": {
        "colab": {
          "base_uri": "https://localhost:8080/"
        },
        "id": "3csLCRnrK0EH",
        "outputId": "9e8fb799-da30-47a9-d188-02fe39b63a3d"
      },
      "id": "3csLCRnrK0EH",
      "execution_count": 9,
      "outputs": [
        {
          "output_type": "stream",
          "name": "stdout",
          "text": [
            "Şifre girin: 1234\n",
            "Lütfen girdiğiniz şifre 5 haneden az 10 haneden fazla olmasın!\n",
            "Şifre girin: 1234567891011\n",
            "Lütfen girdiğiniz şifre 5 haneden az 10 haneden fazla olmasın!\n",
            "Şifre girin: 567890\n",
            "Hesabınız oluşturuldu.\n"
          ]
        }
      ]
    },
    {
      "cell_type": "markdown",
      "id": "8ba81863",
      "metadata": {
        "id": "8ba81863"
      },
      "source": [
        "**Ödev-4:** Kullanıcıdan isim ve şifre isteyeceğiz ve şifre girişi için üç hak verilir.\n",
        "\n",
        "1. Eğer önceden tanımlı şifre ile kullanıcıdan gelen şifre aynıysa \"Giriş yapıldı.\" yazar.\n",
        "2. Şifre girişi yanlışsa \"Yanlış şifre girildi!\" uyarısı verilsin ve üç yanlış denemede program biter.\n",
        "3. Tercihe göre kalan hak bilgisi verilir."
      ]
    },
    {
      "source": [
        "predefined_password = \"loki567\"\n",
        "attempts_remaining = 3\n",
        "\n",
        "while attempts_remaining > 0:\n",
        "    username = input(\"Kullanıcı adı: \")\n",
        "    password = input(\"Şifre: \")\n",
        "\n",
        "    if password == predefined_password:\n",
        "        print(\"Giriş yapıldı.\")\n",
        "        break\n",
        "    else:\n",
        "        attempts_remaining -= 1\n",
        "        print(\"Yanlış şifre girildi!\")\n",
        "        print(f\"Kalan hakkınız: {attempts_remaining}\")\n",
        "\n",
        "if attempts_remaining == 0:\n",
        "    print(\"Giriş hakkınız tükendi. Lütfen daha sonra tekrar deneyiniz.\")"
      ],
      "cell_type": "code",
      "metadata": {
        "colab": {
          "base_uri": "https://localhost:8080/"
        },
        "id": "Ds5SazohLWte",
        "outputId": "92838e37-84a7-4ec5-cc91-1a9c4ea6dc79"
      },
      "id": "Ds5SazohLWte",
      "execution_count": 10,
      "outputs": [
        {
          "output_type": "stream",
          "name": "stdout",
          "text": [
            "Kullanıcı adı: starstuff\n",
            "Şifre: uf5432\n",
            "Yanlış şifre girildi!\n",
            "Kalan hakkınız: 2\n",
            "Kullanıcı adı: uf5678\n",
            "Şifre: 567e\n",
            "Yanlış şifre girildi!\n",
            "Kalan hakkınız: 1\n",
            "Kullanıcı adı: starstuff\n",
            "Şifre: 56798hg\n",
            "Yanlış şifre girildi!\n",
            "Kalan hakkınız: 0\n",
            "Giriş hakkınız tükendi. Lütfen daha sonra tekrar deneyiniz.\n"
          ]
        }
      ]
    }
  ],
  "metadata": {
    "kernelspec": {
      "display_name": "Python 3 (ipykernel)",
      "language": "python",
      "name": "python3"
    },
    "language_info": {
      "codemirror_mode": {
        "name": "ipython",
        "version": 3
      },
      "file_extension": ".py",
      "mimetype": "text/x-python",
      "name": "python",
      "nbconvert_exporter": "python",
      "pygments_lexer": "ipython3",
      "version": "3.9.12"
    },
    "colab": {
      "provenance": []
    }
  },
  "nbformat": 4,
  "nbformat_minor": 5
}