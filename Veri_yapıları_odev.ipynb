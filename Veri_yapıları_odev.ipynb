{
  "cells": [
    {
      "cell_type": "markdown",
      "id": "032d81b2",
      "metadata": {
        "id": "032d81b2"
      },
      "source": [
        "# 1\n",
        "x = 3 ----> floata çevirelim. Çevirdikten sonra beri tipinide yazdıralım.\n",
        "\n",
        "y = 4.5 -----> integere çevirelim. Çevirdikten sonra beri tipinide yazdıralım.\n",
        "\n",
        "z = \"8\" -----> integera çevirelim. Çevirdikten sonra beri tipinide yazdıralım.\n",
        "\n",
        "a = \"12\" -----> floata çevirelim. Çevirdikten sonra beri tipinide yazdıralım.\n",
        "\n",
        "b = \"46.8\" ------> integera çevirelim. Çevirdikten sonra beri tipinide yazdıralım."
      ]
    },
    {
      "cell_type": "code",
      "execution_count": null,
      "id": "f1b735c0",
      "metadata": {
        "id": "f1b735c0",
        "outputId": "5bb01f08-e40f-421d-8a0e-15670561a45b",
        "colab": {
          "base_uri": "https://localhost:8080/"
        }
      },
      "outputs": [
        {
          "output_type": "stream",
          "name": "stdout",
          "text": [
            "3.0\n",
            "<class 'float'>\n"
          ]
        }
      ],
      "source": [
        "x = 3\n",
        "x = float(x)\n",
        "print(x)\n",
        "print (type(x))"
      ]
    },
    {
      "cell_type": "code",
      "source": [
        "y = 4.5\n",
        "y = int(y)\n",
        "print(y)\n",
        "print (type(y))"
      ],
      "metadata": {
        "id": "sLrCU2chthna",
        "outputId": "784866bc-3dcb-4ee4-d568-5d5f4a18e4f0",
        "colab": {
          "base_uri": "https://localhost:8080/"
        }
      },
      "id": "sLrCU2chthna",
      "execution_count": null,
      "outputs": [
        {
          "output_type": "stream",
          "name": "stdout",
          "text": [
            "4\n",
            "<class 'int'>\n"
          ]
        }
      ]
    },
    {
      "cell_type": "code",
      "source": [
        "z = \"8\"\n",
        "z = int(z)\n",
        "print(z)\n",
        "print (type(z))"
      ],
      "metadata": {
        "id": "ywj228N9ukVd",
        "outputId": "e83edfb1-ff05-4582-9d6e-f8264f062f29",
        "colab": {
          "base_uri": "https://localhost:8080/"
        }
      },
      "id": "ywj228N9ukVd",
      "execution_count": null,
      "outputs": [
        {
          "output_type": "stream",
          "name": "stdout",
          "text": [
            "8\n",
            "<class 'int'>\n"
          ]
        }
      ]
    },
    {
      "cell_type": "code",
      "source": [
        "a = \"12\"\n",
        "a = float(a)\n",
        "print(a)\n",
        "print (type(a))"
      ],
      "metadata": {
        "id": "Op3mET-Su1RC",
        "outputId": "d8ffac8e-5774-4bfd-d50a-47b750f4e5ff",
        "colab": {
          "base_uri": "https://localhost:8080/"
        }
      },
      "id": "Op3mET-Su1RC",
      "execution_count": null,
      "outputs": [
        {
          "output_type": "stream",
          "name": "stdout",
          "text": [
            "12.0\n",
            "<class 'float'>\n"
          ]
        }
      ]
    },
    {
      "cell_type": "code",
      "source": [
        "b = \"46.8\"\n",
        "b =float(b)\n",
        "b = int(b)\n",
        "print(b)\n",
        "print(type(b))\n"
      ],
      "metadata": {
        "colab": {
          "base_uri": "https://localhost:8080/"
        },
        "id": "RMwAxgB2vATm",
        "outputId": "89d00a58-122d-4515-81b5-a40da46b42e6"
      },
      "id": "RMwAxgB2vATm",
      "execution_count": null,
      "outputs": [
        {
          "output_type": "stream",
          "name": "stdout",
          "text": [
            "46\n",
            "<class 'int'>\n"
          ]
        }
      ]
    },
    {
      "cell_type": "markdown",
      "id": "95509718",
      "metadata": {
        "id": "95509718"
      },
      "source": [
        "# 2\n",
        "İsimlerden oluşan üç değişkene yaş değerleri atanır. Belirlenen üç değişken birbiriyle karşılaştırma operatörleri ile karşılaştırılır. Bu karşılaştırmalara mantıksal operatörler de eklenir."
      ]
    },
    {
      "cell_type": "code",
      "execution_count": null,
      "id": "50f77b4f",
      "metadata": {
        "id": "50f77b4f"
      },
      "outputs": [],
      "source": [
        "loki = 3\n",
        "ceren = 19\n",
        "ayca = 12"
      ]
    },
    {
      "cell_type": "code",
      "source": [
        "3 == 19"
      ],
      "metadata": {
        "id": "w_UO7bgIT3BZ",
        "outputId": "b1682f08-e005-49f6-9219-912817fe8747",
        "colab": {
          "base_uri": "https://localhost:8080/"
        }
      },
      "id": "w_UO7bgIT3BZ",
      "execution_count": null,
      "outputs": [
        {
          "output_type": "execute_result",
          "data": {
            "text/plain": [
              "False"
            ]
          },
          "metadata": {},
          "execution_count": 4
        }
      ]
    },
    {
      "cell_type": "code",
      "source": [
        "19 > 12"
      ],
      "metadata": {
        "id": "Q5mxIMVYUcyR",
        "outputId": "efdd289e-28b0-4c43-fe10-127f99b2b7a7",
        "colab": {
          "base_uri": "https://localhost:8080/"
        }
      },
      "id": "Q5mxIMVYUcyR",
      "execution_count": null,
      "outputs": [
        {
          "output_type": "execute_result",
          "data": {
            "text/plain": [
              "True"
            ]
          },
          "metadata": {},
          "execution_count": 5
        }
      ]
    },
    {
      "cell_type": "code",
      "source": [
        "12 != 3"
      ],
      "metadata": {
        "id": "PyDJdNZnUhO6",
        "outputId": "9f356f2b-2e2d-44a5-a366-40cff134061b",
        "colab": {
          "base_uri": "https://localhost:8080/"
        }
      },
      "id": "PyDJdNZnUhO6",
      "execution_count": null,
      "outputs": [
        {
          "output_type": "execute_result",
          "data": {
            "text/plain": [
              "True"
            ]
          },
          "metadata": {},
          "execution_count": 6
        }
      ]
    },
    {
      "cell_type": "code",
      "source": [
        "loki = 3\n",
        "ceren = 19\n",
        "ayca = 12\n",
        "loki < ceren and ayca > loki"
      ],
      "metadata": {
        "id": "Je0YYLjTUl0o",
        "outputId": "da87d578-77ee-49ce-b1c6-14594357dc80",
        "colab": {
          "base_uri": "https://localhost:8080/"
        }
      },
      "id": "Je0YYLjTUl0o",
      "execution_count": null,
      "outputs": [
        {
          "output_type": "execute_result",
          "data": {
            "text/plain": [
              "True"
            ]
          },
          "metadata": {},
          "execution_count": 7
        }
      ]
    },
    {
      "cell_type": "code",
      "source": [
        "not((loki < 2) or (ceren < ayca))"
      ],
      "metadata": {
        "id": "T3eXB3PnVnOW",
        "outputId": "e5d08ba8-a855-4784-a540-d8a22d8c9060",
        "colab": {
          "base_uri": "https://localhost:8080/"
        }
      },
      "id": "T3eXB3PnVnOW",
      "execution_count": null,
      "outputs": [
        {
          "output_type": "execute_result",
          "data": {
            "text/plain": [
              "True"
            ]
          },
          "metadata": {},
          "execution_count": 8
        }
      ]
    },
    {
      "cell_type": "markdown",
      "id": "a1a0eb92",
      "metadata": {
        "id": "a1a0eb92"
      },
      "source": [
        "# 3\n",
        "Kullanıcıdan iki değer girmesini istenir. Girilen değerlerin toplama, çıkarma, çarpma, bölme sonuçlarını yazdırılır."
      ]
    },
    {
      "cell_type": "code",
      "execution_count": null,
      "id": "c361e45a",
      "metadata": {
        "id": "c361e45a",
        "outputId": "d986ed0d-48b7-43c6-f920-9a2e1d1a8ac7",
        "colab": {
          "base_uri": "https://localhost:8080/"
        }
      },
      "outputs": [
        {
          "output_type": "stream",
          "name": "stdout",
          "text": [
            "x:12\n",
            "y:2025\n",
            "12\n",
            "2025\n"
          ]
        }
      ],
      "source": [
        "age = int(input(\"x:\"))\n",
        "year = int(input(\"y:\"))\n",
        "print(age)\n",
        "print(year)"
      ]
    },
    {
      "cell_type": "code",
      "source": [
        "age += 5\n",
        "print(age)"
      ],
      "metadata": {
        "id": "zHto7vyPWpYt",
        "outputId": "e78b4865-a666-45ee-9ce8-82a739c854e9",
        "colab": {
          "base_uri": "https://localhost:8080/"
        }
      },
      "id": "zHto7vyPWpYt",
      "execution_count": null,
      "outputs": [
        {
          "output_type": "stream",
          "name": "stdout",
          "text": [
            "17\n"
          ]
        }
      ]
    },
    {
      "cell_type": "code",
      "source": [
        "year =int(input(\"y:\"))\n",
        "year  /= 2\n",
        "print(year)"
      ],
      "metadata": {
        "id": "yQVUcbhEYJRt",
        "outputId": "340541ea-006b-46e2-c6c4-44c1c156ce28",
        "colab": {
          "base_uri": "https://localhost:8080/"
        }
      },
      "id": "yQVUcbhEYJRt",
      "execution_count": null,
      "outputs": [
        {
          "output_type": "stream",
          "name": "stdout",
          "text": [
            "y:2025\n",
            "1012.5\n"
          ]
        }
      ]
    },
    {
      "cell_type": "markdown",
      "id": "060b0bea",
      "metadata": {
        "id": "060b0bea"
      },
      "source": [
        "# 4\n",
        "Kullanıcıdan isim, yaş, şehir ve meslek bilgilerini istenir ve cevaplarını yazdırılır."
      ]
    },
    {
      "cell_type": "code",
      "execution_count": null,
      "id": "6f5dea59",
      "metadata": {
        "id": "6f5dea59",
        "outputId": "bbabd2ec-7511-4356-c0ab-f6b1a105f6c2",
        "colab": {
          "base_uri": "https://localhost:8080/"
        }
      },
      "outputs": [
        {
          "output_type": "stream",
          "name": "stdout",
          "text": [
            "isim:ceyda\n",
            "ceyda\n"
          ]
        }
      ],
      "source": [
        "isim = (input(\"isim:\"))\n",
        "print(isim)"
      ]
    },
    {
      "cell_type": "code",
      "source": [
        "yas = int(input(\"yas:\"))"
      ],
      "metadata": {
        "id": "Gn5Hw2UtbGEf",
        "outputId": "af3476e9-c2c1-475b-fb00-c05b3715b31c",
        "colab": {
          "base_uri": "https://localhost:8080/"
        }
      },
      "id": "Gn5Hw2UtbGEf",
      "execution_count": null,
      "outputs": [
        {
          "name": "stdout",
          "output_type": "stream",
          "text": [
            "yas:27\n"
          ]
        }
      ]
    },
    {
      "cell_type": "code",
      "source": [
        "sehir = (input(\"sehir:\"))"
      ],
      "metadata": {
        "id": "TOzQ3DPDjPNx",
        "outputId": "827a710c-d2ca-417c-ee04-ee2a55b3e7b2",
        "colab": {
          "base_uri": "https://localhost:8080/"
        }
      },
      "id": "TOzQ3DPDjPNx",
      "execution_count": null,
      "outputs": [
        {
          "name": "stdout",
          "output_type": "stream",
          "text": [
            "sehir:istanbul\n"
          ]
        }
      ]
    },
    {
      "cell_type": "code",
      "source": [
        "meslek = (input(\"meslek:\"))\n",
        "print(meslek)"
      ],
      "metadata": {
        "id": "Jb-oWTv2cFv1",
        "outputId": "b6af1ca2-c37a-43b0-e88d-373dd5ea2a8b",
        "colab": {
          "base_uri": "https://localhost:8080/"
        }
      },
      "id": "Jb-oWTv2cFv1",
      "execution_count": null,
      "outputs": [
        {
          "output_type": "stream",
          "name": "stdout",
          "text": [
            "meslek:student\n",
            "student\n"
          ]
        }
      ]
    },
    {
      "cell_type": "markdown",
      "id": "55e1a34e",
      "metadata": {
        "id": "55e1a34e"
      },
      "source": [
        "# 5\n",
        "\"Hi-Kod Veri Bilimi Atölyesi\" ifadesini bir değişkene tanımlanır.\n",
        "\n",
        "\n",
        " 1. İfadedeki her bir kelimeyi (\"Hi-Kod\", \"Veri\", \"Bilimi\", \"Atölyesi\") değişken içinden seçilir.\n",
        " 2. İfadeyi hepsini büyük harf olacak hale çevrilir. (\"HI-KOD VERİ BİLİMİ ATÖLYESİ\")\n",
        " 3. İfadeyi hepsini büyük harf olacak hale çevrilir.(\"hi-kod veri bilimi atölyesi\")\n",
        "\n",
        "\"0123456789\" ifadesindeki yalnızca çift sayıları ve yalnızca tek sayıları seçilir. (\"02468\", \"13579\")"
      ]
    },
    {
      "cell_type": "code",
      "execution_count": null,
      "id": "0fc1bc40",
      "metadata": {
        "id": "0fc1bc40"
      },
      "outputs": [],
      "source": [
        "atolye = \"Hi-Kod Veri Bilimi Atölyesi\""
      ]
    },
    {
      "cell_type": "code",
      "source": [
        "kelimeler = atolye.split()\n",
        "print(kelimeler)"
      ],
      "metadata": {
        "id": "lBSkOUa5dJsw",
        "outputId": "77dd7a09-45a6-4ed6-e80a-eec6af674002",
        "colab": {
          "base_uri": "https://localhost:8080/"
        }
      },
      "id": "lBSkOUa5dJsw",
      "execution_count": null,
      "outputs": [
        {
          "output_type": "stream",
          "name": "stdout",
          "text": [
            "['Hi-Kod', 'Veri', 'Bilimi', 'Atölyesi']\n"
          ]
        }
      ]
    },
    {
      "cell_type": "code",
      "source": [
        "print(kelimeler[0])"
      ],
      "metadata": {
        "id": "SlR7SJzIdgfL",
        "outputId": "df161944-9935-4794-9f38-a288b65edf91",
        "colab": {
          "base_uri": "https://localhost:8080/"
        }
      },
      "id": "SlR7SJzIdgfL",
      "execution_count": null,
      "outputs": [
        {
          "output_type": "stream",
          "name": "stdout",
          "text": [
            "Hi-Kod\n"
          ]
        }
      ]
    },
    {
      "cell_type": "code",
      "source": [
        "print(kelimeler[1])"
      ],
      "metadata": {
        "id": "NlviZ9i2d2bP",
        "outputId": "19ffc13a-d57d-4044-efdc-38de3d0988f6",
        "colab": {
          "base_uri": "https://localhost:8080/"
        }
      },
      "id": "NlviZ9i2d2bP",
      "execution_count": null,
      "outputs": [
        {
          "output_type": "stream",
          "name": "stdout",
          "text": [
            "Veri\n"
          ]
        }
      ]
    },
    {
      "cell_type": "code",
      "source": [
        "print(kelimeler[2])"
      ],
      "metadata": {
        "id": "P2YLDLmHd7SR",
        "outputId": "37b60beb-b690-48c2-86de-ea1e408214d8",
        "colab": {
          "base_uri": "https://localhost:8080/"
        }
      },
      "id": "P2YLDLmHd7SR",
      "execution_count": null,
      "outputs": [
        {
          "output_type": "stream",
          "name": "stdout",
          "text": [
            "Bilimi\n"
          ]
        }
      ]
    },
    {
      "cell_type": "code",
      "source": [
        "print(kelimeler[3])"
      ],
      "metadata": {
        "id": "YmEGRyBld_gz",
        "outputId": "a784d68e-036b-4851-cdf9-9efc4890f7a4",
        "colab": {
          "base_uri": "https://localhost:8080/"
        }
      },
      "id": "YmEGRyBld_gz",
      "execution_count": null,
      "outputs": [
        {
          "output_type": "stream",
          "name": "stdout",
          "text": [
            "Atölyesi\n"
          ]
        }
      ]
    },
    {
      "cell_type": "code",
      "source": [
        "atolye = \"Hi-Kod Veri Bilimi Atölyesi\"\n",
        "atolye_b = atolye.upper()\n",
        "print(atolye_b)"
      ],
      "metadata": {
        "id": "vcg1p1xjeFq9",
        "outputId": "f1d1e4d1-7c20-4fd3-bcc9-fdc2026ce64f",
        "colab": {
          "base_uri": "https://localhost:8080/"
        }
      },
      "id": "vcg1p1xjeFq9",
      "execution_count": null,
      "outputs": [
        {
          "output_type": "stream",
          "name": "stdout",
          "text": [
            "HI-KOD VERI BILIMI ATÖLYESI\n"
          ]
        }
      ]
    },
    {
      "cell_type": "code",
      "source": [
        "atolye_k = atolye.lower()\n",
        "print(atolye_k)"
      ],
      "metadata": {
        "id": "ooXuJ7i7gEzf",
        "outputId": "49ed16d9-b814-4a44-af31-d2438249a4fd",
        "colab": {
          "base_uri": "https://localhost:8080/"
        }
      },
      "id": "ooXuJ7i7gEzf",
      "execution_count": null,
      "outputs": [
        {
          "output_type": "stream",
          "name": "stdout",
          "text": [
            "hi-kod veri bilimi atölyesi\n"
          ]
        }
      ]
    },
    {
      "cell_type": "code",
      "source": [
        "sayilar = \"0123456789\"\n",
        "sayilar_str = str(sayilar)\n",
        "cift_rakamlar = [rakam for rakam in sayilar_str if int(rakam) % 2 == 0]"
      ],
      "metadata": {
        "id": "ArTNXc3xgob0"
      },
      "id": "ArTNXc3xgob0",
      "execution_count": null,
      "outputs": []
    },
    {
      "cell_type": "code",
      "source": [
        "cift_rakamlar_b = ''.join(cift_rakamlar)\n",
        "print(cift_rakamlar_b)"
      ],
      "metadata": {
        "id": "X2imzQkYhsO1",
        "outputId": "4b42df0a-348b-4604-862b-2b3cbdea9400",
        "colab": {
          "base_uri": "https://localhost:8080/"
        }
      },
      "id": "X2imzQkYhsO1",
      "execution_count": null,
      "outputs": [
        {
          "output_type": "stream",
          "name": "stdout",
          "text": [
            "02468\n"
          ]
        }
      ]
    },
    {
      "cell_type": "code",
      "source": [
        "tek_rakamlar = [rakam for rakam in sayilar_str if int(rakam) % 2 != 0]\n",
        "tek_rakamlar_b = ''.join(tek_rakamlar)\n",
        "print(tek_rakamlar_b)"
      ],
      "metadata": {
        "colab": {
          "base_uri": "https://localhost:8080/"
        },
        "id": "2sbzMV70iF8w",
        "outputId": "6d8aca02-11d8-4256-a43d-5440e45c1727"
      },
      "id": "2sbzMV70iF8w",
      "execution_count": null,
      "outputs": [
        {
          "output_type": "stream",
          "name": "stdout",
          "text": [
            "13579\n"
          ]
        }
      ]
    }
  ],
  "metadata": {
    "kernelspec": {
      "display_name": "Python 3 (ipykernel)",
      "language": "python",
      "name": "python3"
    },
    "language_info": {
      "codemirror_mode": {
        "name": "ipython",
        "version": 3
      },
      "file_extension": ".py",
      "mimetype": "text/x-python",
      "name": "python",
      "nbconvert_exporter": "python",
      "pygments_lexer": "ipython3",
      "version": "3.9.12"
    },
    "colab": {
      "provenance": []
    }
  },
  "nbformat": 4,
  "nbformat_minor": 5
}